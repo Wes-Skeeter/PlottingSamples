{
 "cells": [
  {
   "cell_type": "markdown",
   "metadata": {},
   "source": [
    "# Matplotlib!!!!\n",
    "\n",
    "### Plotting & animating with python :D\n",
    "\n",
    "\n",
    "First: Import and delcare a few things"
   ]
  },
  {
   "cell_type": "code",
   "execution_count": null,
   "metadata": {
    "collapsed": false
   },
   "outputs": [],
   "source": [
    "import numpy as np\n",
    "import matplotlib.pyplot as plt\n",
    "import scipy.integrate as integrate\n",
    "import matplotlib.animation as animation\n",
    "plt.close('all')\n",
    "%pylab inline"
   ]
  },
  {
   "cell_type": "markdown",
   "metadata": {},
   "source": [
    "###  Crate Some Random Data"
   ]
  },
  {
   "cell_type": "code",
   "execution_count": null,
   "metadata": {
    "collapsed": false
   },
   "outputs": [],
   "source": [
    "def Rand_Array(Dim,Size):\n",
    "    rnd = np.random.random_sample((Dim,Size))\n",
    "    return rnd\n",
    "\n",
    "def Norm(Mean,Std,Size):\n",
    "    norm = np.random.normal(Mean,Std,Size)\n",
    "    return(norm)\n",
    "\n",
    "def Series(Size):\n",
    "    series = np.zeros(Size)\n",
    "    for x in range (0,Size):\n",
    "        series[x]=x\n",
    "    return series\n",
    "\n",
    "def Series_Array(Size):\n",
    "    series = np.zeros(shape = (Size,Size))\n",
    "    for x in range (0,Size):\n",
    "        series[x,:]=x\n",
    "    return series"
   ]
  },
  {
   "cell_type": "markdown",
   "metadata": {},
   "source": [
    "# Making a scatter plot\n",
    "\n",
    "### Two Random Data Series\n",
    "\n",
    "    Shows options to change marker: color, shape, & size"
   ]
  },
  {
   "cell_type": "code",
   "execution_count": null,
   "metadata": {
    "collapsed": false
   },
   "outputs": [],
   "source": [
    "fig,ax = plt.subplots(1,1,figsize = (10,10))\n",
    "Data = Rand_Array(2,25)\n",
    "ax.scatter(Data[0],Data[1],marker = '^',s=100,color = 'blue',label = 'Some Data')\n",
    "ax.scatter(Data[0]+2,Data[1],marker = '*',s=(Data[1]*100),color='red',label = 'Some Other Data')\n",
    "ax.set_title('Random Data!!!', fontsize = 24)\n",
    "ax.set_xlabel('X axis', fontsize = 12)\n",
    "ax.set_ylabel('Y axis', fontsize = 12)\n",
    "ax.legend(scatterpoints = 1)\n"
   ]
  },
  {
   "cell_type": "markdown",
   "metadata": {},
   "source": [
    "# Plotting a Series"
   ]
  },
  {
   "cell_type": "code",
   "execution_count": null,
   "metadata": {
    "collapsed": false
   },
   "outputs": [],
   "source": [
    "fig,ax = plt.subplots(1,1,figsize = (10,10))\n",
    "X = Series(25)\n",
    "Y = X**.25\n",
    "ax.plot(X,Y,color = 'red',linewidth = 2, label = 'Lines')\n",
    "ax.plot(X,Y/2,color = 'green',linewidth = 4,linestyle = '--', label = 'Dashes')\n",
    "ax.set_title('Continuous Data', fontsize = 24)\n",
    "ax.set_xlabel('X axis', fontsize = 12)\n",
    "ax.set_ylabel('Y axis', fontsize = 12)\n",
    "ax.legend(loc = 2)"
   ]
  },
  {
   "cell_type": "markdown",
   "metadata": {},
   "source": [
    "# Points & Lines???\n",
    "\n",
    "## No problem :)"
   ]
  },
  {
   "cell_type": "code",
   "execution_count": null,
   "metadata": {
    "collapsed": false
   },
   "outputs": [],
   "source": [
    "fig,ax = plt.subplots(1,1,figsize = (10,10))\n",
    "X = (Series(60)-29.5)/10\n",
    "Y = (X)**2\n",
    "ax.plot(X,Y)\n",
    "P1 = 1,-1\n",
    "P2 = 10,10\n",
    "ax.scatter(P1,P2,s=200)\n",
    "ax.scatter(0,7,s=150,marker = '^')\n",
    "ax.set_title('Smiley Face', fontsize = 24)\n"
   ]
  },
  {
   "cell_type": "markdown",
   "metadata": {},
   "source": [
    "# How about a bar graph!?\n",
    "\n",
    "Showing four random data points with text lables"
   ]
  },
  {
   "cell_type": "code",
   "execution_count": null,
   "metadata": {
    "collapsed": false
   },
   "outputs": [],
   "source": [
    "fig,ax = plt.subplots(1,1,figsize = (10,10))\n",
    "Data = Rand_Array(2,4)*10\n",
    "X = Series(4)\n",
    "Labels = ('Some','Random','Data','Points!!!')\n",
    "ax.bar(X,Data[0])\n",
    "ax.set_xticks(X+.4)\n",
    "ax.set_xticklabels(Labels,fontsize = 14)\n",
    "ax.set_title('Insert Title Here :)', fontsize = 24)"
   ]
  },
  {
   "cell_type": "markdown",
   "metadata": {},
   "source": [
    "# You can stack your bars too!!"
   ]
  },
  {
   "cell_type": "code",
   "execution_count": null,
   "metadata": {
    "collapsed": false
   },
   "outputs": [],
   "source": [
    "fig,ax = plt.subplots(1,1,figsize = (10,10))\n",
    "Data = Rand_Array(2,4)*10\n",
    "X = Series(4)\n",
    "Labels = ('Some','Random','Data','Points!!!')\n",
    "ax.bar(X,Data[0],label='Series one')\n",
    "ax.bar(X,Data[1],bottom = Data[0],color = 'white',hatch = '/',label='Series Two')\n",
    "ax.set_xticks(X+.4)\n",
    "ax.set_xticklabels(Labels,fontsize = 14)\n",
    "ax.set_title(':)', fontsize = 24)\n",
    "ax.legend(fontsize = 12,handleheight = 2,loc = 'best')"
   ]
  },
  {
   "cell_type": "markdown",
   "metadata": {},
   "source": [
    "# A Histogram you say??"
   ]
  },
  {
   "cell_type": "code",
   "execution_count": null,
   "metadata": {
    "collapsed": false
   },
   "outputs": [],
   "source": [
    "fig,ax = plt.subplots(1,1,figsize = (10,10))\n",
    "Data = Norm(.5,.1,100)\n",
    "binwidth = 0.05\n",
    "ax.hist(Data,bins = 15)\n",
    "ax.set_title('Normally Distributed Random Data!', fontsize = 24)"
   ]
  },
  {
   "cell_type": "markdown",
   "metadata": {
    "collapsed": true
   },
   "source": [
    "# Dont forget about box & Whisker Plots!!!!!"
   ]
  },
  {
   "cell_type": "code",
   "execution_count": null,
   "metadata": {
    "collapsed": false,
    "scrolled": false
   },
   "outputs": [],
   "source": [
    "matplotlib.rc(\"lines\", markeredgewidth=15)\n",
    "\n",
    "fig,ax = plt.subplots(1,1,figsize = (10,10))\n",
    "Data = Rand_Array(1,25)\n",
    "NonNorm = Data[0]\n",
    "NonNorm[23:25] = NonNorm[23:25]*10\n",
    "ax.boxplot(NonNorm)\n",
    "ax.set_title('Best for non-normal Data sets!', fontsize = 24)\n",
    "Lbl = ['Data Series']\n",
    "ax.set_xticklabels(Lbl,fontsize = 14)"
   ]
  },
  {
   "cell_type": "markdown",
   "metadata": {},
   "source": [
    "# Multiple Plots in one\n",
    "\n",
    "# Save it with the plt.savefig method"
   ]
  },
  {
   "cell_type": "code",
   "execution_count": null,
   "metadata": {
    "collapsed": false
   },
   "outputs": [],
   "source": [
    "fig,ax = plt.subplots(2,2,figsize = (10,10))\n",
    "Data = Rand_Array(4,20)\n",
    "X = Series(20)\n",
    "ax[0][0].plot(X,Data[0])\n",
    "ax[1][0].scatter(Data[1],Data[2])\n",
    "ax[0][1].hist(Data[3],bins = 4)\n",
    "ax[1][1].bar(X[0:3],Data[1,0:3])\n",
    "fig.suptitle('Mutliple Plots',fontsize = 30)\n",
    "ax[0][0].set_title('With',fontsize = 20)\n",
    "ax[0][1].set_title('Their',fontsize = 20)\n",
    "ax[1][0].set_title('Own',fontsize = 20)\n",
    "ax[1][1].set_title('SubTitles',fontsize = 20)\n",
    "\n",
    "plt.savefig('FourPlot.png')"
   ]
  },
  {
   "cell_type": "markdown",
   "metadata": {},
   "source": [
    "# 3D Plots!"
   ]
  },
  {
   "cell_type": "code",
   "execution_count": null,
   "metadata": {
    "collapsed": false
   },
   "outputs": [],
   "source": [
    "from mpl_toolkits.mplot3d import Axes3D\n",
    "\n",
    "colors=['b', 'c', 'y', 'm', 'r']\n",
    "\n",
    "Data = Rand_Array(7,10)\n",
    "fig = plt.figure(figsize = (10,10))\n",
    "ax = fig.add_subplot(111, projection='3d')\n",
    "\n",
    "ax.plot(Data[0],Data[1],Data[2], 'x', color=colors[0], label='Low Outlier',markersize=10)\n",
    "ax.plot(Data[1],Data[2],Data[3], '.', color=colors[0], label='LoLo',markersize=10)\n",
    "ax.plot(Data[2],Data[3],Data[4], '.', color=colors[1], label='Lo',markersize=10)\n",
    "ax.plot(Data[6],Data[1],Data[2], '*', color=colors[2], label='Average',markersize=10)\n",
    "ax.plot(Data[5],Data[2],Data[4], '^', color=colors[3], label='Hi',markersize=10)\n",
    "ax.plot(Data[4],Data[6],Data[5], 'o', color=colors[4], label='HiHi',markersize=10)\n",
    "ax.plot(Data[3],Data[4],Data[1], 'x', color=colors[4], label='High Outlier',markersize=10)\n",
    "\n",
    "plt.legend(loc='best', numpoints=1, ncol=3, fontsize=12, bbox_to_anchor=(0, 0))\n"
   ]
  },
  {
   "cell_type": "markdown",
   "metadata": {},
   "source": [
    "# Continuous 2D Data"
   ]
  },
  {
   "cell_type": "code",
   "execution_count": null,
   "metadata": {
    "collapsed": false
   },
   "outputs": [],
   "source": [
    "from matplotlib.colors import BoundaryNorm\n",
    "from matplotlib.ticker import MaxNLocator\n",
    "\n",
    "\n",
    "X = Series(25)\n",
    "Data = X[np.newaxis].T*X\n",
    "Data = Data\n",
    "\n",
    "\n",
    "fig,ax = plt.subplots(1,1,figsize = (10,10))\n",
    "\n",
    "levels = MaxNLocator(nbins=15).tick_values(Data.min(), Data.max())\n",
    "cmap = plt.get_cmap('rainbow')\n",
    "norm = BoundaryNorm(levels, ncolors=cmap.N, clip=True)\n",
    "\n",
    "\n",
    "im = ax.pcolormesh(Data, cmap=cmap, norm=norm)\n",
    "cbar = fig.colorbar(im, ax=ax)\n",
    "cbar.set_label('Randmom Scale!!!', fontsize = 12)\n",
    "ax.set_title('ROYGBIV :D', fontsize = 24)"
   ]
  },
  {
   "cell_type": "markdown",
   "metadata": {},
   "source": [
    "# How about plotting this on a 3d Surface??"
   ]
  },
  {
   "cell_type": "code",
   "execution_count": null,
   "metadata": {
    "collapsed": false
   },
   "outputs": [],
   "source": [
    "fig2 = plt.figure(figsize = (10,10))\n",
    "ax = fig2.add_subplot(111, projection='3d')\n",
    "\n",
    "X = Series_Array(25)\n",
    "Y = X.T\n",
    "\n",
    "levels = MaxNLocator(nbins=15).tick_values(Data.min(), Data.max())\n",
    "cmap = plt.get_cmap('terrain')\n",
    "norm = BoundaryNorm(levels, ncolors=cmap.N, clip=True)\n",
    "\n",
    "im = ax.plot_surface(X,Y,Data,cmap = cmap)\n",
    "cbar = fig.colorbar(im, ax=ax)\n",
    "cbar.set_label('Arbitrary Units!', fontsize = 12)\n",
    "ax.set_title('Its a Hillslope!', fontsize = 24)"
   ]
  },
  {
   "cell_type": "markdown",
   "metadata": {},
   "source": [
    "# You can make tables too!!!!"
   ]
  },
  {
   "cell_type": "code",
   "execution_count": null,
   "metadata": {
    "collapsed": false
   },
   "outputs": [],
   "source": [
    "fig,ax = plt.subplots(1,1,figsize = (10,10))\n",
    "\n",
    "clbl = ['Columns','Of','Data :D']\n",
    "rlbl = ['Rows','Of','More Data']\n",
    "\n",
    "Data = Rand_Array(3,3)\n",
    "\n",
    "tbl = ax.table(cellText = Data, rowLabels = rlbl, colLabels = clbl, loc ='center')\n",
    "ax.xaxis.set_visible(False)\n",
    "ax.yaxis.set_visible(False)\n",
    "table_props=tbl.properties()\n",
    "table_cells=table_props['child_artists']\n",
    "for cell in table_cells:\n",
    "    cell.set_width(.25)\n",
    "    cell.set_height(.1)\n",
    "    cell.set_fontsize(18)\n",
    "ax.axis('off')\n",
    "ax.set_title('Neat & Clean', fontsize = 24)"
   ]
  },
  {
   "cell_type": "markdown",
   "metadata": {},
   "source": [
    "# Now for some really cool tricks\n",
    "\n",
    "# Animated Plots :)\n",
    "\n",
    "\n",
    "# Embedding this thakes a little more effort\n",
    "\n",
    "### You need to use some HTML Judo to get things to cooperate\n",
    "\n"
   ]
  },
  {
   "cell_type": "code",
   "execution_count": null,
   "metadata": {
    "collapsed": true
   },
   "outputs": [],
   "source": [
    "from IPython.display import HTML\n",
    "from tempfile import NamedTemporaryFile\n",
    "\n",
    "VIDEO_TAG = \"\"\"<video controls>\n",
    " <source src=\"data:video/x-m4v;base64,{0}\" type=\"video/mp4\">\n",
    " Your browser does not support the video tag.\n",
    "</video>\"\"\"\n",
    "def anim_to_html(anim):\n",
    "    if not hasattr(anim, '_encoded_video'):\n",
    "        anim.save(\"test.mp4\", fps=20, extra_args=['-vcodec', 'libx264'])\n",
    "\n",
    "        video = open(\"test.mp4\",\"rb\").read()\n",
    "\n",
    "    return anim.to_html5_video()\n",
    "\n",
    "def display_animation(anim):\n",
    "    plt.close(anim._fig)\n",
    "    return HTML(anim_to_html(anim))"
   ]
  },
  {
   "cell_type": "markdown",
   "metadata": {},
   "source": [
    "# With that out of the way we can make some really cool plots!\n",
    "\n",
    "### One side note\n",
    "\n",
    "        You need the ffmpeg to run this.  It can be downloaded [here](https://www.ffmpeg.org/)\n",
    "        If on windows, you also need to manually add this to PATH\n",
    "        If you need help w/ that, let me know :D\n",
    "        \n",
    "## Here is a double Penudlum!"
   ]
  },
  {
   "cell_type": "code",
   "execution_count": null,
   "metadata": {
    "collapsed": false
   },
   "outputs": [],
   "source": [
    "from numpy import sin, cos\n",
    "import scipy.integrate as integrate\n",
    "%matplotlib qt\n",
    "\n",
    "\n",
    "G = 9.8  # acceleration due to gravity, in m/s^2\n",
    "L1 = 1.0  # length of pendulum 1 in m\n",
    "L2 = 1.0  # length of pendulum 2 in m\n",
    "M1 = 1.0  # mass of pendulum 1 in kg\n",
    "M2 = 1.0  # mass of pendulum 2 in kg\n",
    "\n",
    "\n",
    "def derivs(state, t):\n",
    "\n",
    "    dydx = np.zeros_like(state)\n",
    "    dydx[0] = state[1]\n",
    "\n",
    "    del_ = state[2] - state[0]\n",
    "    den1 = (M1 + M2)*L1 - M2*L1*cos(del_)*cos(del_)\n",
    "    dydx[1] = (M2*L1*state[1]*state[1]*sin(del_)*cos(del_) +\n",
    "               M2*G*sin(state[2])*cos(del_) +\n",
    "               M2*L2*state[3]*state[3]*sin(del_) -\n",
    "               (M1 + M2)*G*sin(state[0]))/den1\n",
    "\n",
    "    dydx[2] = state[3]\n",
    "\n",
    "    den2 = (L2/L1)*den1\n",
    "    dydx[3] = (-M2*L2*state[3]*state[3]*sin(del_)*cos(del_) +\n",
    "               (M1 + M2)*G*sin(state[0])*cos(del_) -\n",
    "               (M1 + M2)*L1*state[1]*state[1]*sin(del_) -\n",
    "               (M1 + M2)*G*sin(state[2]))/den2\n",
    "\n",
    "    return dydx\n",
    "\n",
    "# create a time array from 0..100 sampled at 0.05 second steps\n",
    "dt = 0.05\n",
    "t = np.arange(0.0, 20, dt)\n",
    "\n",
    "# th1 and th2 are the initial angles (degrees)\n",
    "# w10 and w20 are the initial angular velocities (degrees per second)\n",
    "th1 = 120.0\n",
    "w1 = 0.0\n",
    "th2 = -10.0\n",
    "w2 = 0.0\n",
    "\n",
    "# initial state\n",
    "state = np.radians([th1, w1, th2, w2])\n",
    "\n",
    "# integrate your ODE using scipy.integrate.\n",
    "y = integrate.odeint(derivs, state, t)\n",
    "\n",
    "x1 = L1*sin(y[:, 0])\n",
    "y1 = -L1*cos(y[:, 0])\n",
    "\n",
    "x2 = L2*sin(y[:, 2]) + x1\n",
    "y2 = -L2*cos(y[:, 2]) + y1\n",
    "\n",
    "fig = plt.figure(figsize = (10,10))\n",
    "ax = fig.add_subplot(111, autoscale_on=False, xlim=(-2, 2), ylim=(-2, 2))\n",
    "ax.grid()\n",
    "\n",
    "line, = ax.plot([], [], 'o-', lw=2)\n",
    "time_template = 'time = %.1fs'\n",
    "time_text = ax.text(0.05, 0.9, '', transform=ax.transAxes)\n",
    "\n",
    "\n",
    "def init():\n",
    "    line.set_data([], [])\n",
    "    time_text.set_text('')\n",
    "    return line, time_text\n",
    "\n",
    "\n",
    "def animate(i):\n",
    "    thisx = [0, x1[i], x2[i]]\n",
    "    thisy = [0, y1[i], y2[i]]\n",
    "\n",
    "    line.set_data(thisx, thisy)\n",
    "    time_text.set_text(time_template % (i*dt))\n",
    "    return line, time_text\n",
    "\n",
    "ani = animation.FuncAnimation(fig, animate, np.arange(1, len(y)),\n",
    "                              interval=25, blit=True, init_func=init)\n",
    "\n",
    "# call to display the animation\n",
    "display_animation(ani)\n",
    "\n",
    "## This will save instead of embedding the vidoe\n",
    "\n",
    "#Writer = animation.writers['ffmpeg']\n",
    "#writer = Writer(fps=15, metadata=dict(artist='Me'), bitrate=1800)\n",
    "#ani.save('Pendulum.mp4', writer=writer)"
   ]
  },
  {
   "cell_type": "code",
   "execution_count": null,
   "metadata": {
    "collapsed": true
   },
   "outputs": [],
   "source": []
  }
 ],
 "metadata": {
  "kernelspec": {
   "display_name": "Python 3",
   "language": "python",
   "name": "python3"
  },
  "language_info": {
   "codemirror_mode": {
    "name": "ipython",
    "version": 3
   },
   "file_extension": ".py",
   "mimetype": "text/x-python",
   "name": "python",
   "nbconvert_exporter": "python",
   "pygments_lexer": "ipython3",
   "version": "3.5.1"
  }
 },
 "nbformat": 4,
 "nbformat_minor": 0
}
